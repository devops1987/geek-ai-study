{
 "cells": [
  {
   "cell_type": "code",
   "execution_count": 8,
   "id": "c81f43bf-a5d1-4277-9486-26cdb24a75a9",
   "metadata": {},
   "outputs": [],
   "source": [
    "import os\n",
    "import re\n",
    "#import json\n",
    "from openai import OpenAI\n",
    "from glob import glob\n",
    "from pymilvus import model as milvus_model\n",
    "from pymilvus import MilvusClient\n",
    "from tqdm import tqdm\n",
    "\n",
    "\n",
    "# 从环境变量获取 DeepSeek API Key\n",
    "api_key = os.getenv(\"DEEPSEEK_API_KEY\")\n",
    "if not api_key:\n",
    "    raise ValueError(\"请设置 DEEPSEEK_API_KEY 环境变量\")\n",
    "\n",
    "deepseek_client = OpenAI(\n",
    "    api_key=api_key,\n",
    "    base_url=\"https://api.deepseek.com/v1\",  # DeepSeek API 的基地址\n",
    ")\n",
    "\n",
    "text_lines = []\n",
    "\n",
    "for file_path in glob(\"./mfd.md\", recursive=True):\n",
    "    with open(file_path, \"r\") as file:\n",
    "        file_text = file.read()\n",
    "\n",
    "    # parts = re.split(r\"# |* \", file_text)\n",
    "    text_lines += file_text.split(\"* \")\n",
    "\n",
    "\n",
    "\n",
    "\n"
   ]
  },
  {
   "cell_type": "code",
   "execution_count": 10,
   "id": "b9a18291-eab0-4168-a290-4d53eb8b9079",
   "metadata": {},
   "outputs": [
    {
     "name": "stdout",
     "output_type": "stream",
     "text": [
      "29239\n",
      "388\n"
     ]
    }
   ],
   "source": [
    "print(len(file_text))\n",
    "print(len(text_lines))"
   ]
  },
  {
   "cell_type": "code",
   "execution_count": 14,
   "id": "c5f0760b-25fd-4b18-8c3a-92d994374ceb",
   "metadata": {},
   "outputs": [
    {
     "name": "stderr",
     "output_type": "stream",
     "text": [
      "Creating embeddings: 100%|██████████| 388/388 [00:00<00:00, 814102.03it/s]\n"
     ]
    },
    {
     "name": "stdout",
     "output_type": "stream",
     "text": [
      "根据我国《民法典》等相关法律规定，个人对宅基地和自留地享有以下主要权益：\n",
      "\n",
      "1. **宅基地使用权**  \n",
      "   - 依法享有占有、使用宅基地的权利，可以在宅基地上建造住宅及其附属设施。  \n",
      "   - 宅基地使用权可以依法由符合条件的继承人继承。  \n",
      "\n",
      "2. **自留地经营权**  \n",
      "   - 对自留地享有长期经营使用权，可自主安排种植、养殖等农业生产。  \n",
      "   - 自留地上的收益归农户所有。  \n",
      "\n",
      "3. **其他权益**  \n",
      "   - 宅基地和自留地不得被非法收回或侵占。  \n",
      "   - 因公共利益需要征收时，有权依法获得合理补偿。  \n",
      "\n",
      "需注意，宅基地和自留地所有权属于农民集体，个人享有的是使用权或经营权，且相关权益的行使需符合土地管理法等法律法规的规定。\n"
     ]
    }
   ],
   "source": [
    "milvus_client = MilvusClient(uri=\"./milvus_mfd.db\")\n",
    "collection_name = \"mfd_rag_collection\"\n",
    "embedding_dim = 768\n",
    "embedding_model = milvus_model.DefaultEmbeddingFunction()\n",
    "\n",
    "if milvus_client.has_collection(collection_name):\n",
    "    milvus_client.drop_collection(collection_name)\n",
    "\n",
    "milvus_client.create_collection(\n",
    "    collection_name=collection_name,\n",
    "    dimension=embedding_dim,\n",
    "    metric_type=\"IP\",  # 内积距离\n",
    "    consistency_level=\"Strong\",  # 支持的值为 (`\"Strong\"`, `\"Session\"`, `\"Bounded\"`, `\"Eventually\"`)。更多详情请参见 https://milvus.io/docs/consistency.md#Consistency-Level。\n",
    ")\n",
    "\n",
    "data = []\n",
    "doc_embeddings = embedding_model.encode_documents(text_lines)\n",
    "\n",
    "for i, line in enumerate(tqdm(text_lines, desc=\"Creating embeddings\")):\n",
    "    data.append({\"id\": i, \"vector\": doc_embeddings[i], \"text\": line})\n",
    "\n",
    "milvus_client.insert(collection_name=collection_name, data=data)\n",
    "\n",
    "question = \"依据我国明法，个人宅基地和自留地，个人享有有哪些相关权益?\"\n",
    "\n",
    "search_res = milvus_client.search(\n",
    "    collection_name=collection_name,\n",
    "    data=embedding_model.encode_queries(\n",
    "        [question]\n",
    "    ),  # 将问题转换为嵌入向量\n",
    "    limit=3,  # 返回前3个结果\n",
    "    search_params={\"metric_type\": \"IP\", \"params\": {}},  # 内积距离\n",
    "    output_fields=[\"text\"],  # 返回 text 字段\n",
    ")\n",
    "\n",
    "#retrieved_lines_with_distances = [\n",
    "#    (res[\"entity\"][\"text\"], res[\"distance\"]) for res in search_res[0]\n",
    "#]\n",
    "#print(json.dumps(retrieved_lines_with_distances, indent=4))\n",
    "\n",
    "#context = \"\\n\".join(\n",
    "#    [line_with_distance[0] for line_with_distance in retrieved_lines_with_distances]\n",
    "#)\n",
    "\n",
    "SYSTEM_PROMPT = \"\"\"\n",
    "Human: 你是一个 AI 助手。你能够从提供的上下文段落片段中找到问题的答案。\n",
    "\"\"\"\n",
    "USER_PROMPT = f\"\"\"\n",
    "请回答用 <question> 标签括起来的问题。\n",
    "<question>\n",
    "{question}\n",
    "</question>\n",
    "\"\"\"\n",
    "\n",
    "response = deepseek_client.chat.completions.create(\n",
    "    model=\"deepseek-chat\",\n",
    "    messages=[\n",
    "        {\"role\": \"system\", \"content\": SYSTEM_PROMPT},\n",
    "        {\"role\": \"user\", \"content\": USER_PROMPT},\n",
    "    ],\n",
    ")\n",
    "print(response.choices[0].message.content)"
   ]
  },
  {
   "cell_type": "code",
   "execution_count": 16,
   "id": "fcee5c28-c7ce-4746-9c79-276ee7418ea6",
   "metadata": {},
   "outputs": [
    {
     "name": "stdout",
     "output_type": "stream",
     "text": [
      "根据中国《民法典》的相关规定，个人对不动产享有以下主要权益：\n",
      "\n",
      "1. **所有权**：个人对其不动产享有占有、使用、收益和处分的权利。\n",
      "\n",
      "2. **用益物权**：包括：\n",
      "   - **土地承包经营权**：对承包的土地享有占有、使用和收益的权利。\n",
      "   - **建设用地使用权**：依法对国家所有的土地享有占有、使用和收益的权利，可以在该土地上建造建筑物、构筑物及其附属设施。\n",
      "   - **宅基地使用权**：依法对集体所有的土地享有占有和使用的权利，有权依法利用该土地建造住宅及其附属设施。\n",
      "   - **居住权**：按照合同约定，对他人的住宅享有占有、使用的权利，以满足生活居住的需要。\n",
      "   - **地役权**：按照合同约定，利用他人的不动产，以提高自己的不动产的效益。\n",
      "\n",
      "3. **担保物权**：个人可以以其不动产设立抵押权，作为债务的担保。\n",
      "\n",
      "这些权益的具体内容和行使方式，需遵循《民法典》及其他相关法律法规的规定。\n"
     ]
    }
   ],
   "source": [
    "question = \"依据我国明法，个人的不动产，个人享有有哪些相关权益?\"\n",
    "\n",
    "search_res = milvus_client.search(\n",
    "    collection_name=collection_name,\n",
    "    data=embedding_model.encode_queries(\n",
    "        [question]\n",
    "    ),  # 将问题转换为嵌入向量\n",
    "    limit=3,  # 返回前3个结果\n",
    "    search_params={\"metric_type\": \"IP\", \"params\": {}},  # 内积距离\n",
    "    output_fields=[\"text\"],  # 返回 text 字段\n",
    ")\n",
    "\n",
    "SYSTEM_PROMPT = \"\"\"\n",
    "Human: 你是一个 AI 助手。你能够从提供的上下文段落片段中找到问题的答案。\n",
    "\"\"\"\n",
    "USER_PROMPT = f\"\"\"\n",
    "请回答用 <question> 标签括起来的问题。\n",
    "<question>\n",
    "{question}\n",
    "</question>\n",
    "\"\"\"\n",
    "\n",
    "response = deepseek_client.chat.completions.create(\n",
    "    model=\"deepseek-chat\",\n",
    "    messages=[\n",
    "        {\"role\": \"system\", \"content\": SYSTEM_PROMPT},\n",
    "        {\"role\": \"user\", \"content\": USER_PROMPT},\n",
    "    ],\n",
    ")\n",
    "print(response.choices[0].message.content)"
   ]
  },
  {
   "cell_type": "code",
   "execution_count": null,
   "id": "de23a5c2-d39f-47cd-83b1-d2cacfca5d6d",
   "metadata": {},
   "outputs": [],
   "source": []
  }
 ],
 "metadata": {
  "kernelspec": {
   "display_name": "Python 3 (ipykernel)",
   "language": "python",
   "name": "python3"
  },
  "language_info": {
   "codemirror_mode": {
    "name": "ipython",
    "version": 3
   },
   "file_extension": ".py",
   "mimetype": "text/x-python",
   "name": "python",
   "nbconvert_exporter": "python",
   "pygments_lexer": "ipython3",
   "version": "3.13.7"
  }
 },
 "nbformat": 4,
 "nbformat_minor": 5
}
