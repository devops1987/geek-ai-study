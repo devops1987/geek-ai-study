{
 "cells": [
  {
   "cell_type": "code",
   "execution_count": 1,
   "id": "e7ef32d5-8e55-4781-a929-c7107a6824f9",
   "metadata": {},
   "outputs": [
    {
     "name": "stdout",
     "output_type": "stream",
     "text": [
      "Collecting openapi\n",
      "  Downloading openapi-2.0.0-py2.py3-none-any.whl.metadata (1.2 kB)\n",
      "Collecting inflection>=0.5.1 (from openapi)\n",
      "  Downloading inflection-0.5.1-py2.py3-none-any.whl.metadata (1.7 kB)\n",
      "Requirement already satisfied: jsonschema>=3.2.0 in /data/wupengw/miniconda3/envs/deepseek/lib/python3.13/site-packages (from openapi) (4.25.1)\n",
      "Requirement already satisfied: attrs>=22.2.0 in /data/wupengw/miniconda3/envs/deepseek/lib/python3.13/site-packages (from jsonschema>=3.2.0->openapi) (25.4.0)\n",
      "Requirement already satisfied: jsonschema-specifications>=2023.03.6 in /data/wupengw/miniconda3/envs/deepseek/lib/python3.13/site-packages (from jsonschema>=3.2.0->openapi) (2025.9.1)\n",
      "Requirement already satisfied: referencing>=0.28.4 in /data/wupengw/miniconda3/envs/deepseek/lib/python3.13/site-packages (from jsonschema>=3.2.0->openapi) (0.37.0)\n",
      "Requirement already satisfied: rpds-py>=0.7.1 in /data/wupengw/miniconda3/envs/deepseek/lib/python3.13/site-packages (from jsonschema>=3.2.0->openapi) (0.22.3)\n",
      "Downloading openapi-2.0.0-py2.py3-none-any.whl (12 kB)\n",
      "Downloading inflection-0.5.1-py2.py3-none-any.whl (9.5 kB)\n",
      "Installing collected packages: inflection, openapi\n",
      "\u001b[2K   \u001b[90m━━━━━━━━━━━━━━━━━━━━━━━━━━━━━━━━━━━━━━━━\u001b[0m \u001b[32m2/2\u001b[0m [openapi]\n",
      "\u001b[1A\u001b[2KSuccessfully installed inflection-0.5.1 openapi-2.0.0\n",
      "\u001b[33mWARNING: Running pip as the 'root' user can result in broken permissions and conflicting behaviour with the system package manager, possibly rendering your system unusable. It is recommended to use a virtual environment instead: https://pip.pypa.io/warnings/venv. Use the --root-user-action option if you know what you are doing and want to suppress this warning.\u001b[0m\u001b[33m\n",
      "\u001b[0m"
     ]
    }
   ],
   "source": [
    "!pip install openapi"
   ]
  },
  {
   "cell_type": "code",
   "execution_count": 5,
   "id": "3e94695a-77fb-4ec0-8013-04797a3ffc24",
   "metadata": {},
   "outputs": [
    {
     "name": "stdout",
     "output_type": "stream",
     "text": [
      "五子棋游戏已保存为 gomoku.html\n"
     ]
    }
   ],
   "source": [
    "import os\n",
    "from openai import OpenAI\n",
    "\n",
    "# 从环境变量获取 DeepSeek API Key\n",
    "api_key = os.getenv(\"DEEPSEEK_API_KEY\")\n",
    "if not api_key:\n",
    "    raise ValueError(\"请设置 DEEPSEEK_API_KEY 环境变量\")\n",
    "\n",
    "# 初始化 OpenAI 客户端（假设 DeepSeek 的 API 兼容 OpenAI 格式）\n",
    "client = OpenAI(\n",
    "    api_key=api_key,\n",
    "    base_url=\"https://api.deepseek.com/v1\",  # DeepSeek API 的基地址\n",
    ")\n",
    "\n",
    "# 定义提示词\n",
    "prompt = \"\"\"请帮我用 HTML 生成一个五子棋游戏，所有代码都保存在一个 HTML 中。\"\"\"\n",
    "\n",
    "try:\n",
    "    # 调用 DeepSeek Chat API\n",
    "    response = client.chat.completions.create(\n",
    "        model=\"deepseek-chat\",  # 或 DeepSeek 提供的其他模型名称\n",
    "        messages=[\n",
    "            {\"role\": \"system\", \"content\": \"你是一个专业的 Web 开发助手，擅长用 HTML/CSS/JavaScript 编写游戏。\"},\n",
    "            {\"role\": \"user\", \"content\": prompt}\n",
    "        ],\n",
    "        temperature=0.7,\n",
    "        stream=False\n",
    "    )\n",
    "\n",
    "    # 提取生成的 HTML 内容\n",
    "    if response.choices and len(response.choices) > 0:\n",
    "        html_content = response.choices[0].message.content\n",
    "        \n",
    "        # 保存到文件\n",
    "        with open(\"gomoku.html\", \"w\", encoding=\"utf-8\") as f:\n",
    "            f.write(html_content)\n",
    "        print(\"五子棋游戏已保存为 gomoku.html\")\n",
    "    else:\n",
    "        print(\"未收到有效响应\")\n",
    "\n",
    "except Exception as e:\n",
    "    print(f\"调用 API 出错: {e}\")"
   ]
  }
 ],
 "metadata": {
  "kernelspec": {
   "display_name": "Python 3 (ipykernel)",
   "language": "python",
   "name": "python3"
  },
  "language_info": {
   "codemirror_mode": {
    "name": "ipython",
    "version": 3
   },
   "file_extension": ".py",
   "mimetype": "text/x-python",
   "name": "python",
   "nbconvert_exporter": "python",
   "pygments_lexer": "ipython3",
   "version": "3.13.7"
  }
 },
 "nbformat": 4,
 "nbformat_minor": 5
}
